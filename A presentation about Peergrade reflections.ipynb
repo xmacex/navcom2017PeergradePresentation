{
 "cells": [
  {
   "cell_type": "markdown",
   "metadata": {
    "slideshow": {
     "slide_type": "notes"
    }
   },
   "source": [
    "# Overall structure\n",
    "\n",
    "* So we will talk a little bit about peergrade\n",
    "* We are halfway into the course\n",
    "* Peergrade is about literature on this course. Peergrade is for us all a big reading group\n",
    "* Peergrade is your place, it is what you enact it to be\n",
    "* Look at all the nice things we have created\n",
    "** joyplot\n",
    "* but that's not maybe what we want\n",
    "* there are relations here\n",
    "** generator\n",
    "* Here are some very nice examples of good reflections\n",
    "* Reading is also about reading to write\n",
    "* Somebody also picked up the literary style of Law's \"crazy\" text (the honey one)\n",
    "* Considering how peergrade is set up, a good reflection is something that is useful when you *receive* feedback to it. Valuable twice\n",
    "* Here are some cool reflection <-> feedback interactions\n",
    "* Maybe there is some \"media studies\" lesson here that you can think about in your projects too\n",
    "* Keep on being awesome 🦄"
   ]
  },
  {
   "cell_type": "markdown",
   "metadata": {
    "slideshow": {
     "slide_type": "slide"
    }
   },
   "source": [
    "![](https://www.peergrade.io/wp-content/uploads/2017/06/peergrade-blue-300x67.png)"
   ]
  },
  {
   "cell_type": "markdown",
   "metadata": {
    "slideshow": {
     "slide_type": "slide"
    }
   },
   "source": [
    "# We are halfway into the course\n",
    "\n",
    "1. **Complexity Thinking**\n",
    "1. **Qualitative Approaches to Quantitative Data**\n",
    "1. **What are Digital Methods?**\n",
    "1. **Methods Make Worlds**\n",
    "1. **Problematization**\n",
    "1. **Network Effects**\n",
    "1. Situational Mapping\n",
    "1. Thick Data\n",
    "1. Data Politics and Publics\n",
    "1. Mapping Worlds\n",
    "1. Visualizing Data\n",
    "1. Storytelling with Data"
   ]
  },
  {
   "cell_type": "markdown",
   "metadata": {
    "slideshow": {
     "slide_type": "slide"
    }
   },
   "source": [
    "# Peergrade is a big reading group\n",
    "\n",
    "<img src=\"https://www.westernsydney.edu.au/__data/assets/image/0006/852144/ien_ang_2015.jpg\" style=\"float: left; height: 150px\"/>\n",
    "\n",
    "<img src=\"http://www.sussex.ac.uk/images/people/profile/7513.jpg\" style=\"float: left; height: 150px;\"/>\n",
    "\n",
    "<img src=\"http://www.tommasoventurini.it/wp/wp-content/uploads/2016/01/TommasoVenturini_large.jpg\" style=\"float: left; height: 150px;\"/>\n",
    "\n",
    "<img src=\"https://thebreakthrough.org/images/people_profiles/Bruno-Latour-1.jpg\" style=\"float: left; height: 150px;\"/>\n",
    "\n",
    "<img src=\"https://i1.rgstatic.net/ii/profile.image/AS%3A285798063722497%401445150976911_l/Richard_Rogers13.png\" style=\"float: left; height: 150px;\"/>\n",
    "\n",
    "<img src=\"https://www2.warwick.ac.uk/fac/cross_fac/cim/people/academic/noortje.jpg?maxWidth=344&maxHeight=344\" style=\"float: left; height: 150px;\"/>\n",
    "\n",
    "<img src=\"https://pbs.twimg.com/profile_images/658510005579022336/qtPqMAM2.jpg\" style=\"float: left; height: 150px;\"/>\n",
    "\n",
    "<img src=\"https://upload.wikimedia.org/wikipedia/commons/thumb/d/df/Lucy_Suchman.jpeg/220px-Lucy_Suchman.jpeg\" style=\"float: left; height: 150px;\"/>\n",
    "\n",
    "<img src=\"http://theconversant.org/wp-content/uploads/2012/12/Haraway-Photo-1.jpg\" style=\"float: left; height: 150px;\"/>\n",
    "\n",
    "<img src=\"https://images.gr-assets.com/authors/1406520120p5/1276828.jpg\" style=\"float: left; height: 150px;\"/>\n",
    "\n",
    "<img src=\"http://interaction16.ixda.org/wp-content/uploads/2016/01/wang_tricia-1.jpg\" style=\"float: left; height: 150px;\"/>\n",
    "\n",
    "<img src=\"http://www.dugumkume.org/wp-content/john-law2.jpg\" style=\"float: left; height: 150px;\"/>\n",
    "\n",
    "<img src=\"http://www.gurteen.com/gurteen/gurteen.nsf/id/L000992/$File/snowden.jpg\" style=\"float: left; height: 150px;\"/>\n",
    "\n",
    "<img src=\"http://www.maryboone.com/images/Keynote%20Photo.jpg\" style=\"float: left; height: 150px;\"/>"
   ]
  },
  {
   "cell_type": "markdown",
   "metadata": {
    "slideshow": {
     "slide_type": "slide"
    }
   },
   "source": [
    "# Peergrade is your place, it is what you enact it to be"
   ]
  },
  {
   "cell_type": "markdown",
   "metadata": {
    "slideshow": {
     "slide_type": "skip"
    }
   },
   "source": [
    "## Python environment imports and setup"
   ]
  },
  {
   "cell_type": "code",
   "execution_count": 12,
   "metadata": {
    "slideshow": {
     "slide_type": "skip"
    }
   },
   "outputs": [],
   "source": [
    "import matplotlib.pyplot as plt\n",
    "import seaborn as sns\n",
    "import pandas as pd\n",
    "import scipy.stats\n",
    "import lxml.html\n",
    "import lxml.etree\n",
    "import zipfile\n",
    "import string\n",
    "import nltk\n",
    "import networkx as nx\n",
    "import random"
   ]
  },
  {
   "cell_type": "code",
   "execution_count": 13,
   "metadata": {
    "slideshow": {
     "slide_type": "skip"
    }
   },
   "outputs": [],
   "source": [
    "%matplotlib inline\n",
    "sns.set()\n",
    "sns.set_context(\"talk\")"
   ]
  },
  {
   "cell_type": "markdown",
   "metadata": {
    "slideshow": {
     "slide_type": "skip"
    }
   },
   "source": [
    "## Data definitions\n",
    "\n",
    "About the course and the actual data, namely student reflections."
   ]
  },
  {
   "cell_type": "code",
   "execution_count": 14,
   "metadata": {
    "slideshow": {
     "slide_type": "skip"
    }
   },
   "outputs": [],
   "source": [
    "refllen = 300\n",
    "\n",
    "files = [\"reflections-week2.zip\",\n",
    "         \"reflections-week3.zip\",\n",
    "         \"reflections-week4.zip\",\n",
    "         \"reflections-week5.zip\",\n",
    "         \"reflections-week6.zip\"]"
   ]
  },
  {
   "cell_type": "markdown",
   "metadata": {
    "slideshow": {
     "slide_type": "skip"
    }
   },
   "source": [
    "## Reading the data"
   ]
  },
  {
   "cell_type": "code",
   "execution_count": 15,
   "metadata": {
    "slideshow": {
     "slide_type": "skip"
    }
   },
   "outputs": [],
   "source": [
    "def readPeergradeFile(filename):\n",
    "    \"\"\"Given a filename, assumes it is a Peergrade assignment and reads it into a dict.\"\"\"\n",
    "    assignment = dict()\n",
    "    with zipfile.ZipFile(filename) as zf:\n",
    "        for name in zf.namelist():\n",
    "            if not name.endswith(\".ipynb\"):\n",
    "                with zf.open(name) as file:\n",
    "                    assignment[name.strip(\".html\")] = lxml.html.document_fromstring(file.read().decode('utf-8'))\n",
    "    return assignment"
   ]
  },
  {
   "cell_type": "code",
   "execution_count": 18,
   "metadata": {
    "slideshow": {
     "slide_type": "skip"
    }
   },
   "outputs": [],
   "source": [
    "data = {}\n",
    "data[\"week2\"] = readPeergradeFile(files[0])\n",
    "data[\"week3\"] = readPeergradeFile(files[1])\n",
    "data[\"week4\"] = readPeergradeFile(files[2])\n",
    "data[\"week5\"] = readPeergradeFile(files[3])\n",
    "data[\"week6\"] = readPeergradeFile(files[4])"
   ]
  },
  {
   "cell_type": "markdown",
   "metadata": {
    "slideshow": {
     "slide_type": "skip"
    }
   },
   "source": [
    "## Extract the reflections and start NLP by tokenizing"
   ]
  },
  {
   "cell_type": "code",
   "execution_count": 19,
   "metadata": {
    "slideshow": {
     "slide_type": "skip"
    }
   },
   "outputs": [],
   "source": [
    "punctremover = str.maketrans('', '', string.punctuation)\n",
    "\n",
    "def getReflection(data, student):\n",
    "    \"\"\"Given data dictionary and student name string, return their reflection as is, as a list.\"\"\"\n",
    "    return ''.join(token for token in data.get(student).getchildren()[1].itertext()).strip()"
   ]
  },
  {
   "cell_type": "markdown",
   "metadata": {
    "slideshow": {
     "slide_type": "skip"
    }
   },
   "source": [
    "## Analyze reflection lengths"
   ]
  },
  {
   "cell_type": "code",
   "execution_count": 20,
   "metadata": {
    "slideshow": {
     "slide_type": "skip"
    }
   },
   "outputs": [],
   "source": [
    "def reflLen(reflection):\n",
    "    \"\"\"Given a list of tokens, removes all punctuation and returns it's length in words.\"\"\"\n",
    "    l = [token.translate(punctremover) for token in reflection.split(' ')]\n",
    "    return len(l)"
   ]
  },
  {
   "cell_type": "code",
   "execution_count": 23,
   "metadata": {
    "slideshow": {
     "slide_type": "skip"
    }
   },
   "outputs": [],
   "source": [
    "weeklens = pd.DataFrame({\n",
    "    'Week2': pd.Series([reflLen(getReflection(data[\"week2\"], n)) for n in data[\"week2\"]], index=data[\"week2\"].keys(), name=\"Week 2\"),\n",
    "    'Week3': pd.Series([reflLen(getReflection(data[\"week3\"], n)) for n in data[\"week3\"]], index=data[\"week3\"].keys(), name=\"Week 3\"),\n",
    "    'Week4': pd.Series([reflLen(getReflection(data[\"week4\"], n)) for n in data[\"week4\"]], index=data[\"week4\"].keys(), name=\"Week 4\"),\n",
    "    'Week5': pd.Series([reflLen(getReflection(data[\"week5\"], n)) for n in data[\"week5\"]], index=data[\"week5\"].keys(), name=\"Week 5\"),\n",
    "    'Week6': pd.Series([reflLen(getReflection(data[\"week6\"], n)) for n in data[\"week6\"]], index=data[\"week6\"].keys(), name=\"Week 6\")\n",
    "})"
   ]
  },
  {
   "cell_type": "markdown",
   "metadata": {
    "slideshow": {
     "slide_type": "skip"
    }
   },
   "source": [
    "For joyplot with `seaborn`, we want to melt the data to narrow shape. So let's do that."
   ]
  },
  {
   "cell_type": "code",
   "execution_count": 26,
   "metadata": {
    "slideshow": {
     "slide_type": "skip"
    }
   },
   "outputs": [
    {
     "name": "stdout",
     "output_type": "stream",
     "text": [
      "Week3    131\n",
      "Week6    131\n",
      "Week5    131\n",
      "Week4    131\n",
      "Week2    131\n",
      "Name: variable, dtype: int64\n"
     ]
    },
    {
     "data": {
      "text/html": [
       "<div>\n",
       "<style>\n",
       "    .dataframe thead tr:only-child th {\n",
       "        text-align: right;\n",
       "    }\n",
       "\n",
       "    .dataframe thead th {\n",
       "        text-align: left;\n",
       "    }\n",
       "\n",
       "    .dataframe tbody tr th {\n",
       "        vertical-align: top;\n",
       "    }\n",
       "</style>\n",
       "<table border=\"1\" class=\"dataframe\">\n",
       "  <thead>\n",
       "    <tr style=\"text-align: right;\">\n",
       "      <th></th>\n",
       "      <th>variable</th>\n",
       "      <th>value</th>\n",
       "    </tr>\n",
       "  </thead>\n",
       "  <tbody>\n",
       "    <tr>\n",
       "      <th>78</th>\n",
       "      <td>Week2</td>\n",
       "      <td>NaN</td>\n",
       "    </tr>\n",
       "    <tr>\n",
       "      <th>317</th>\n",
       "      <td>Week4</td>\n",
       "      <td>NaN</td>\n",
       "    </tr>\n",
       "    <tr>\n",
       "      <th>41</th>\n",
       "      <td>Week2</td>\n",
       "      <td>267.0</td>\n",
       "    </tr>\n",
       "  </tbody>\n",
       "</table>\n",
       "</div>"
      ],
      "text/plain": [
       "    variable  value\n",
       "78     Week2    NaN\n",
       "317    Week4    NaN\n",
       "41     Week2  267.0"
      ]
     },
     "execution_count": 26,
     "metadata": {},
     "output_type": "execute_result"
    }
   ],
   "source": [
    "weeklens_m = weeklens.melt()\n",
    "print(weeklens_m[\"variable\"].value_counts())\n",
    "weeklens_m.sample(3)"
   ]
  },
  {
   "cell_type": "code",
   "execution_count": 69,
   "metadata": {
    "slideshow": {
     "slide_type": "skip"
    }
   },
   "outputs": [],
   "source": [
    "def joyplot(data):\n",
    "    \"\"\"Given a dataframe, plots a joyplot\"\"\"\n",
    "    sns.set(style=\"white\", rc={\"axes.facecolor\": (0, 0, 0, 0)})\n",
    "    sns.set_context(\"talk\")\n",
    "    pal = sns.cubehelix_palette(len(data[\"variable\"].unique()), rot=0.2, light=0.8, dark=0.4)\n",
    "    g = sns.FacetGrid(data, row=\"variable\", hue=\"variable\", aspect=10, size=1, palette=pal)\n",
    "    g.map(sns.kdeplot, \"value\", bw=.2, lw=1, shade=True, alpha=1, clip_on=False)\n",
    "    g.map(plt.axhline, y=0, lw=2, clip_on=False)\n",
    "    g.set_titles(\"\")\n",
    "    g.fig.subplots_adjust(hspace=-0.8)\n",
    "    plt.axvline(300, ls=\"dotted\", c=\"black\", lw=6)\n",
    "    g.set(yticks=[])\n",
    "    g.despine(bottom=True, left=True);"
   ]
  },
  {
   "cell_type": "markdown",
   "metadata": {
    "slideshow": {
     "slide_type": "slide"
    }
   },
   "source": [
    "# Look at all the nice things we have created\n",
    "\n",
    "~120 students, one 300 word reflection per week, and two 100 word feedbacks to anonymous¹ peers each. 6 weeks so far, out of 14."
   ]
  },
  {
   "cell_type": "markdown",
   "metadata": {
    "slideshow": {
     "slide_type": "fragment"
    }
   },
   "source": [
    "¹ well \"anonymous\""
   ]
  },
  {
   "cell_type": "markdown",
   "metadata": {
    "slideshow": {
     "slide_type": "slide"
    }
   },
   "source": [
    "Distribution of reflection lengths, first week at the back, and newer weeks at the front."
   ]
  },
  {
   "cell_type": "code",
   "execution_count": 70,
   "metadata": {
    "slideshow": {
     "slide_type": "-"
    }
   },
   "outputs": [
    {
     "data": {
      "image/png": "[encoded data removed]",
      "text/plain": [
       "<matplotlib.figure.Figure at 0x10ec1b4a8>"
      ]
     },
     "metadata": {},
     "output_type": "display_data"
    }
   ],
   "source": [
    "joyplot(weeklens_m)"
   ]
  },
  {
   "cell_type": "markdown",
   "metadata": {
    "slideshow": {
     "slide_type": "fragment"
    }
   },
   "source": [
    "What else can we know?"
   ]
  },
  {
   "cell_type": "markdown",
   "metadata": {
    "slideshow": {
     "slide_type": "slide"
    }
   },
   "source": [
    "# A language model\n",
    "\n",
    "To gain intuition by exploring and by distancing, we used some machine learning to create this *thing* which we taught to speak like you. The language model is a network of all the words that you have written."
   ]
  },
  {
   "cell_type": "markdown",
   "metadata": {
    "slideshow": {
     "slide_type": "skip"
    }
   },
   "source": [
    "## Basic idea of the model\n",
    "\n",
    "A little sketch to explain the idea."
   ]
  },
  {
   "cell_type": "code",
   "execution_count": 191,
   "metadata": {
    "slideshow": {
     "slide_type": "skip"
    }
   },
   "outputs": [],
   "source": [
    "mmexample = nx.DiGraph()\n",
    "mmexample.add_weighted_edges_from([\n",
    "    (\"I\", \"love\", 5),\n",
    "    (\"I\", \"hate\", 1),\n",
    "    (\"love\", \"complexity\", 3),\n",
    "    (\"love\", \"unicorns\", 2),\n",
    "    (\"hate\", \"unicorns\", 1)\n",
    "])"
   ]
  },
  {
   "cell_type": "code",
   "execution_count": 199,
   "metadata": {
    "slideshow": {
     "slide_type": "skip"
    }
   },
   "outputs": [
    {
     "data": {
      "image/png": "[encoded data removed]",
      "text/plain": [
       "<matplotlib.figure.Figure at 0x115745128>"
      ]
     },
     "metadata": {},
     "output_type": "display_data"
    }
   ],
   "source": [
    "pos = nx.spring_layout(mmexample)\n",
    "nx.draw(mmexample, pos, node_color=\"lightgreen\", edge_color=\"grey\")\n",
    "nx.draw_networkx_labels(mmexample, pos, font_size=20)\n",
    "nx.draw_networkx_edge_labels(mmexample, pos);"
   ]
  },
  {
   "cell_type": "code",
   "execution_count": 29,
   "metadata": {
    "slideshow": {
     "slide_type": "skip"
    }
   },
   "outputs": [],
   "source": [
    "def makePairs(arr):\n",
    "    pairs = []\n",
    "    for i in range(len(arr)):\n",
    "        if i < len(arr)-1: \n",
    "            temp = (arr[i], arr[i+1])\n",
    "            pairs.append(temp)\n",
    "    return pairs\n",
    "\n",
    "def generate(cfd, word = 'the', num = 300):\n",
    "    for i in range(num):\n",
    "        # make an array with the words shown by proper count\n",
    "        arr = []\n",
    "        for j in cfd[word]:\n",
    "            for k in range(cfd[word][j]):\n",
    "                arr.append(j)\n",
    "        \n",
    "        print(word, end=' ')\n",
    "        # choose the word randomly from the conditional distribution\n",
    "        word = arr[int((len(arr))*random.random())]"
   ]
  },
  {
   "cell_type": "code",
   "execution_count": 30,
   "metadata": {
    "slideshow": {
     "slide_type": "skip"
    }
   },
   "outputs": [],
   "source": [
    "tokenizer = nltk.WordPunctTokenizer()"
   ]
  },
  {
   "cell_type": "code",
   "execution_count": 31,
   "metadata": {
    "slideshow": {
     "slide_type": "skip"
    }
   },
   "outputs": [],
   "source": [
    "def markovModel(week):\n",
    "    pairs = []\n",
    "    for student in week:\n",
    "        pairs.extend(makePairs(tokenizer.tokenize(week[student].body.text_content())))\n",
    "    return nltk.ConditionalFreqDist(pairs)"
   ]
  },
  {
   "cell_type": "markdown",
   "metadata": {
    "slideshow": {
     "slide_type": "skip"
    }
   },
   "source": [
    "A model for each week separately"
   ]
  },
  {
   "cell_type": "code",
   "execution_count": 35,
   "metadata": {
    "slideshow": {
     "slide_type": "skip"
    }
   },
   "outputs": [],
   "source": [
    "week2cfd = markovModel(data[\"week2\"])\n",
    "week3cfd = markovModel(data[\"week3\"])\n",
    "week4cfd = markovModel(data[\"week4\"])\n",
    "week5cfd = markovModel(data[\"week5\"])\n",
    "week6cfd = markovModel(data[\"week6\"])"
   ]
  },
  {
   "cell_type": "markdown",
   "metadata": {
    "slideshow": {
     "slide_type": "skip"
    }
   },
   "source": [
    "## A sum model"
   ]
  },
  {
   "cell_type": "code",
   "execution_count": 43,
   "metadata": {
    "slideshow": {
     "slide_type": "skip"
    }
   },
   "outputs": [],
   "source": [
    "def addModel(cfd1, cfd2):\n",
    "    \"\"\"Adds cfd2 to cfd1\"\"\"\n",
    "    l1 = len(cfd1)\n",
    "    l2 = len(cfd2)\n",
    "    for cond in cfd2:\n",
    "        if cond in cfd1:\n",
    "            for other in cfd2[cond]:\n",
    "                if other in cfd1[cond]:\n",
    "                    cfd1[cond][other] += cfd2[cond][other]\n",
    "                else:\n",
    "                    cfd1[cond][other] = cfd2[cond][other]\n",
    "        else:\n",
    "            cfd1[cond] = cfd2[cond]\n",
    "    print(\"Added\", len(cfd1) - l1, \"terms from\", l2)"
   ]
  },
  {
   "cell_type": "code",
   "execution_count": 44,
   "metadata": {
    "slideshow": {
     "slide_type": "skip"
    }
   },
   "outputs": [
    {
     "name": "stdout",
     "output_type": "stream",
     "text": [
      "Added 3998 terms from 3998\n",
      "Added 1919 terms from 3896\n",
      "Added 1526 terms from 4025\n",
      "Added 1133 terms from 3808\n",
      "Added 1023 terms from 3774\n",
      "Total number of states in this model: 9599\n"
     ]
    }
   ],
   "source": [
    "cfd = nltk.ConditionalFreqDist()\n",
    "addModel(cfd, week2cfd)\n",
    "addModel(cfd, week3cfd)\n",
    "addModel(cfd, week4cfd)\n",
    "addModel(cfd, week5cfd)\n",
    "addModel(cfd, week6cfd)\n",
    "print(\"Total number of states in this model:\", len(cfd))"
   ]
  },
  {
   "cell_type": "markdown",
   "metadata": {
    "slideshow": {
     "slide_type": "skip"
    }
   },
   "source": [
    "Convert the Markov Model to a weighted graph $g = \\langle V, E\\rangle$ `networkx.DiGraph` object, which we might have done all along, instead of `nltk.ConditionalFreqDist`."
   ]
  },
  {
   "cell_type": "code",
   "execution_count": 62,
   "metadata": {
    "slideshow": {
     "slide_type": "skip"
    }
   },
   "outputs": [],
   "source": [
    "mmg = nx.DiGraph()\n",
    "for token in cfd:\n",
    "    for other in cfd[token].items():\n",
    "        mmg.add_weighted_edges_from([(token, other[0], 1 / other[1])])"
   ]
  },
  {
   "cell_type": "markdown",
   "metadata": {
    "slideshow": {
     "slide_type": "skip"
    }
   },
   "source": [
    "Save the graph to a file, for poking around in Gephi."
   ]
  },
  {
   "cell_type": "code",
   "execution_count": null,
   "metadata": {
    "slideshow": {
     "slide_type": "skip"
    }
   },
   "outputs": [],
   "source": [
    "nx.write_gexf(mmg, \"languagemarkov.gexf\")"
   ]
  },
  {
   "cell_type": "markdown",
   "metadata": {
    "slideshow": {
     "slide_type": "fragment"
    }
   },
   "source": [
    "![](gephi-hairball.png)"
   ]
  },
  {
   "cell_type": "markdown",
   "metadata": {
    "slideshow": {
     "slide_type": "skip"
    }
   },
   "source": [
    "We would like to be able to traverse the graph, and each of the student reflections is a random walk in this graph. And we can walk more!"
   ]
  },
  {
   "cell_type": "code",
   "execution_count": 111,
   "metadata": {
    "slideshow": {
     "slide_type": "skip"
    }
   },
   "outputs": [],
   "source": [
    "def prevWord(cfd, word):\n",
    "    \"\"\"Given a conditional frequendy distribution _cfd_, prints transitions to _word_.\"\"\"\n",
    "    transitions = {}\n",
    "    for candidate in cfd:\n",
    "        if word in cfd[candidate]:\n",
    "            transitions[candidate] = cfd[candidate][word]\n",
    "            print(candidate, \"→\", word, cfd[candidate][word])"
   ]
  },
  {
   "cell_type": "code",
   "execution_count": 60,
   "metadata": {
    "slideshow": {
     "slide_type": "subslide"
    }
   },
   "outputs": [
    {
     "data": {
      "text/plain": [
       "FreqDist({'complex': 1,\n",
       "          'complexities': 1,\n",
       "          'complexity': 3,\n",
       "          'controversies': 1,\n",
       "          'in': 9,\n",
       "          'through': 3})"
      ]
     },
     "execution_count": 60,
     "metadata": {},
     "output_type": "execute_result"
    }
   ],
   "source": [
    "cfd[\"navigating\"]"
   ]
  },
  {
   "cell_type": "code",
   "execution_count": 112,
   "metadata": {},
   "outputs": [
    {
     "name": "stdout",
     "output_type": "stream",
     "text": [
      "understand → complexity 3\n",
      "the → complexity 62\n",
      "between → complexity 1\n",
      "and → complexity 1\n",
      "of → complexity 30\n",
      "to → complexity 5\n",
      "that → complexity 1\n",
      "what → complexity 1\n",
      "approach → complexity 1\n",
      "in → complexity 7\n",
      ", → complexity 3\n",
      "using → complexity 1\n",
      "‘ → complexity 1\n",
      "with → complexity 3\n",
      "s → complexity 1\n",
      "a → complexity 9\n",
      "this → complexity 3\n",
      "navigating → complexity 3\n",
      "how → complexity 1\n",
      "/ → complexity 1\n",
      "on → complexity 12\n",
      ": → complexity 1\n",
      "into → complexity 1\n",
      "examining → complexity 1\n",
      "term → complexity 1\n",
      "understanding → complexity 3\n",
      "within → complexity 1\n",
      "specific → complexity 1\n",
      "social → complexity 1\n",
      "any → complexity 2\n",
      "its → complexity 6\n",
      "simple → complexity 1\n",
      "where → complexity 1\n",
      "because → complexity 1\n",
      "analyzing → complexity 2\n",
      "their → complexity 1\n",
      "modern → complexity 1\n",
      "word → complexity 1\n",
      "analyze → complexity 1\n",
      "see → complexity 1\n",
      "explaining → complexity 1\n",
      "simplifying → complexity 1\n",
      "visualise → complexity 1\n",
      "mapping → complexity 3\n",
      "Navigating → complexity 7\n",
      "apply → complexity 1\n",
      "described → complexity 1\n",
      "regarding → complexity 1\n",
      "general → complexity 1\n",
      "philosophical → complexity 1\n",
      "letting → complexity 1\n",
      "inner → complexity 1\n",
      "embrace → complexity 3\n",
      "Navigation → complexity 1\n",
      "handle → complexity 1\n",
      "unavoidable → complexity 1\n",
      "face → complexity 1\n",
      "highest → complexity 1\n",
      "encountering → complexity 1\n",
      "integrating → complexity 1\n"
     ]
    }
   ],
   "source": [
    "prevWord(cfd, \"complexity\")"
   ]
  },
  {
   "cell_type": "code",
   "execution_count": 51,
   "metadata": {
    "slideshow": {
     "slide_type": "subslide"
    }
   },
   "outputs": [
    {
     "name": "stdout",
     "output_type": "stream",
     "text": [
      "practical tool or disciplined ) and “ giving a means of one right answer to know , he uses the inner abilities to “ thing coming out that it still be critical while still a country , “ The role does not an actor - coherent . Though ultimately have "
     ]
    }
   ],
   "source": [
    "generate(cfd, word=\"practical\", num=50)"
   ]
  },
  {
   "cell_type": "code",
   "execution_count": 52,
   "metadata": {
    "slideshow": {
     "slide_type": "subslide"
    }
   },
   "outputs": [
    {
     "name": "stdout",
     "output_type": "stream",
     "text": [
      "practical process of how Big Data creates confusion I found it became the necessity to put into the model can answer ” approach are always better decision - 6 . A person in regards to study . I really interesting that ultimately this data - points . Wang suggests to "
     ]
    }
   ],
   "source": [
    "generate(cfd, word=\"practical\", num=50)"
   ]
  },
  {
   "cell_type": "code",
   "execution_count": 53,
   "metadata": {
    "slideshow": {
     "slide_type": "subslide"
    }
   },
   "outputs": [
    {
     "name": "stdout",
     "output_type": "stream",
     "text": [
      "practical sense , but may depends on your own presumptions . Latour made in my perception of metaphora and the world do here being rather than the professors are many different situations Snowden and ‘ by the amount of objectivity suffers from a group of sense of their conceptions ’ "
     ]
    }
   ],
   "source": [
    "generate(cfd, word=\"practical\", num=50)"
   ]
  },
  {
   "cell_type": "code",
   "execution_count": 54,
   "metadata": {
    "slideshow": {
     "slide_type": "subslide"
    }
   },
   "outputs": [
    {
     "name": "stdout",
     "output_type": "stream",
     "text": [
      "practical use of inquiries one is questioned by complexities . To sum up , I have been a real world of a deep insight of humanists and particular events and about how much easier to examine these questions that now , there are so , that I totally agree with "
     ]
    }
   ],
   "source": [
    "generate(cfd, word=\"practical\", num=50)"
   ]
  },
  {
   "cell_type": "code",
   "execution_count": 55,
   "metadata": {
    "slideshow": {
     "slide_type": "subslide"
    }
   },
   "outputs": [
    {
     "name": "stdout",
     "output_type": "stream",
     "text": [
      "practical examples and explanation of different sort of it comes to tell stories which is possible route to place … A Leader ’ by Lucy Suchman and nudity of multiple actors - for division of techniques that mediate between Actornetwork theory . Design from Haraway the ‘ routine - budgets "
     ]
    }
   ],
   "source": [
    "generate(cfd, word=\"practical\", num=50)"
   ]
  },
  {
   "cell_type": "markdown",
   "metadata": {
    "slideshow": {
     "slide_type": "slide"
    }
   },
   "source": [
    "![](https://media.giphy.com/media/giHQ2odvRQ5oc/giphy.gif)"
   ]
  },
  {
   "cell_type": "markdown",
   "metadata": {
    "slideshow": {
     "slide_type": "slide"
    }
   },
   "source": [
    "Here are some cool bits from the reflections"
   ]
  },
  {
   "cell_type": "markdown",
   "metadata": {
    "slideshow": {
     "slide_type": "subslide"
    }
   },
   "source": [
    "> example 1"
   ]
  },
  {
   "cell_type": "markdown",
   "metadata": {
    "slideshow": {
     "slide_type": "subslide"
    }
   },
   "source": [
    "> example 2"
   ]
  },
  {
   "cell_type": "markdown",
   "metadata": {
    "slideshow": {
     "slide_type": "subslide"
    }
   },
   "source": [
    "> example 3"
   ]
  },
  {
   "cell_type": "markdown",
   "metadata": {
    "slideshow": {
     "slide_type": "subslide"
    }
   },
   "source": [
    "> example 4"
   ]
  },
  {
   "cell_type": "markdown",
   "metadata": {
    "slideshow": {
     "slide_type": "subslide"
    }
   },
   "source": [
    "> example 5"
   ]
  },
  {
   "cell_type": "markdown",
   "metadata": {
    "slideshow": {
     "slide_type": "slide"
    }
   },
   "source": [
    "Reading is also about learning to write"
   ]
  },
  {
   "cell_type": "markdown",
   "metadata": {
    "slideshow": {
     "slide_type": "slide"
    }
   },
   "source": [
    "Somebody picked up the Law style of writing to write satire\n",
    "\n",
    "> ... Here we have a student. *X* is the student. ‘Why’ he says, ‘why are we reading this text?’ What on earth is going on?’. He is annoyed. Annoyed by the simple morality of the text, annoyed by the terrible language ..."
   ]
  },
  {
   "cell_type": "markdown",
   "metadata": {
    "slideshow": {
     "slide_type": "fragment"
    }
   },
   "source": [
    "And the feedback was pretty priceless too ;)\n",
    "\n",
    ">> ... Nevertheless, student now has a choice. He can either be annoyed for a long time or he has to look beyond the terrible texts. Because what student is missing is a context ..."
   ]
  },
  {
   "cell_type": "markdown",
   "metadata": {
    "slideshow": {
     "slide_type": "slide"
    }
   },
   "source": [
    "Considering how Peergrade is set up, a good reflection is something that is useful when you *receive* feedback to it. It is valuable twice\n",
    "\n",
    "![Feedback](https://upload.wikimedia.org/wikipedia/commons/b/b0/General_Feedback_Loop.svg)\n",
    "\n",
    "Here are some good reflection ↔ feedback interactions we found"
   ]
  },
  {
   "cell_type": "markdown",
   "metadata": {
    "slideshow": {
     "slide_type": "subslide"
    }
   },
   "source": [
    "## Q & A\n",
    "\n",
    "> \"Situated knowledges are about communities, not about isolated individuals. The only way to find a larger vision is **to be somewhere in particular**\". – Not sure what does it means to be in particular?\n",
    ">>  In regards to Haraway writing about being **'somewhere in particular'**, **I think she means that** in order to gain a larger insight on knowledge (in a specific context), one must be somewhere in the middle of the community where knowledge is being created. "
   ]
  },
  {
   "cell_type": "markdown",
   "metadata": {
    "slideshow": {
     "slide_type": "subslide"
    }
   },
   "source": [
    "## A challenge based on the literature\n",
    "\n",
    ">> The last statement is one that i disagree with.\"And that since every examination is based on one specific case in a specific setting **it will be hard to ever make any conclusions**.\" Eventhough every examination is based on a specific case and in a specific setting, **Venturini states that one can get around this subjectivity by using multiple perspectives** as a way of **obtaining objectivity and impartial results/observations**."
   ]
  },
  {
   "cell_type": "markdown",
   "metadata": {
    "slideshow": {
     "slide_type": "subslide"
    }
   },
   "source": [
    "## A challenge of the literature\n",
    "\n",
    ">> About designer leaving their personal mark on the products they produce – **I have to disagree with the statement that “designers are encouraged to be ignorant towards their social positions** and only view technologies as objects and themselves as their creators”. **I think that it is important to leave some kind of personal mark on each and every product**, in order to make the design/work unique and not to look like any other computer generated output."
   ]
  },
  {
   "cell_type": "markdown",
   "metadata": {
    "slideshow": {
     "slide_type": "subslide"
    }
   },
   "source": [
    "## A correction of background research\n",
    "\n",
    ">> I was quite confused by your description of **John Laws death**, as I'm sure he's alive. I googled it for you and you should not just take the first google result. The John Law who wrote this text is a sociologist, **alive and well**, though aged 71, and **one of the founders of Actor Network Theory**."
   ]
  },
  {
   "cell_type": "markdown",
   "metadata": {
    "slideshow": {
     "slide_type": "subslide"
    }
   },
   "source": [
    "## An advice (with a meta-example)\n",
    "\n",
    ">> **try to put some of discussed concepts in a context or think of an example that would reflect theories you read about**. **For example**, think about how certain experiences are particularly valuable in the generation process, since knowledge is produced in a specific social context,"
   ]
  },
  {
   "cell_type": "markdown",
   "metadata": {
    "slideshow": {
     "slide_type": "subslide"
    }
   },
   "source": [
    "## An encouragement\n",
    "\n",
    ">> Very nice reflection and it seems like you understood the texts..."
   ]
  },
  {
   "cell_type": "markdown",
   "metadata": {
    "slideshow": {
     "slide_type": "subslide"
    }
   },
   "source": [
    "## A push forward\n",
    "\n",
    "> Situated Knowledge is an interesting epistemology that I believe takes its base in Constructivism\n",
    ">> You mention in your reflection that she takes her standpoint in constructivism. I think you **got something, but which form of constructivism do you think** she \"supports\"?"
   ]
  },
  {
   "cell_type": "markdown",
   "metadata": {
    "slideshow": {
     "slide_type": "subslide"
    }
   },
   "source": [
    "## A motivation of the study program\n",
    "\n",
    ">> This is really what DIM is about, and I think we need to understand how developers think, and we have to try to make developers understand how non-developers think. And an approach to this is through Haraways thoughts about feminism. I hope this makes some sense to you:)"
   ]
  },
  {
   "cell_type": "markdown",
   "metadata": {
    "slideshow": {
     "slide_type": "slide"
    }
   },
   "source": [
    "Maybe there is some lesson here that you can think about in your projects too, what does the organization of the situation do to knowledge creation and interactions"
   ]
  },
  {
   "cell_type": "markdown",
   "metadata": {
    "slideshow": {
     "slide_type": "slide"
    }
   },
   "source": [
    "# ✨ 🦄\n",
    "\n",
    "Keep on being awesome "
   ]
  }
 ],
 "metadata": {
  "celltoolbar": "Slideshow",
  "kernelspec": {
   "display_name": "Python 3",
   "language": "python",
   "name": "python3"
  },
  "language_info": {
   "codemirror_mode": {
    "name": "ipython",
    "version": 3
   },
   "file_extension": ".py",
   "mimetype": "text/x-python",
   "name": "python",
   "nbconvert_exporter": "python",
   "pygments_lexer": "ipython3",
   "version": "3.6.2"
  }
 },
 "nbformat": 4,
 "nbformat_minor": 2
}
