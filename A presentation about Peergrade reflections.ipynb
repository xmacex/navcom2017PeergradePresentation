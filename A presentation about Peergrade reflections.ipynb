{
 "cells": [
  {
   "cell_type": "markdown",
   "metadata": {
    "slideshow": {
     "slide_type": "skip"
    }
   },
   "source": [
    "# Overall structure\n",
    "\n",
    "* So we will talk a little bit about peergrade\n",
    "* We are halfway into the course\n",
    "* Peergrade is about literature on this course. Peergrade is for us all a big reading group\n",
    "* Peergrade is your place, it is what you enact it to be\n",
    "* Look at all the nice things we have created\n",
    "** joyplot\n",
    "* but that's not maybe what we want\n",
    "* there are relations here\n",
    "** generator\n",
    "* Here are some very nice examples of good reflections\n",
    "* Reading is also about reading to write\n",
    "* Somebody also picked up the literary style of Law's \"crazy\" text (the honey one)\n",
    "* Considering how peergrade is set up, a good reflection is something that is useful when you *receive* feedback to it. Valuable twice\n",
    "* Here are some cool reflection <-> feedback interactions\n",
    "* Maybe there is some \"media studies\" lesson here that you can think about in your projects too\n",
    "* Keep on being awesome 🦄"
   ]
  },
  {
   "cell_type": "markdown",
   "metadata": {
    "slideshow": {
     "slide_type": "slide"
    }
   },
   "source": [
    "![](https://www.peergrade.io/wp-content/uploads/2017/06/peergrade-blue-300x67.png)\n",
    "\n",
    "130 students, one 300 word reflection per week, and two 100 word feedbacks to anonymous¹ peers each. 6 weeks so far, out of 14"
   ]
  },
  {
   "cell_type": "markdown",
   "metadata": {
    "slideshow": {
     "slide_type": "fragment"
    }
   },
   "source": [
    "¹ well \"anonymous\""
   ]
  },
  {
   "cell_type": "markdown",
   "metadata": {
    "slideshow": {
     "slide_type": "slide"
    }
   },
   "source": [
    "# We are halfway into the course\n",
    "\n",
    "1. **Complexity Thinking**\n",
    "1. **Qualitative Approaches to Quantitative Data**\n",
    "1. **What are Digital Methods?**\n",
    "1. **Methods Make Worlds**\n",
    "1. **Problematization**\n",
    "1. **Network Effects**\n",
    "1. Situational Mapping\n",
    "1. Thick Data\n",
    "1. Data Politics and Publics\n",
    "1. Mapping Worlds\n",
    "1. Visualizing Data\n",
    "1. Storytelling with Data"
   ]
  },
  {
   "cell_type": "markdown",
   "metadata": {
    "slideshow": {
     "slide_type": "slide"
    }
   },
   "source": [
    "# Peergrade is a big reading group\n",
    "\n",
    "<img src=\"https://www.westernsydney.edu.au/__data/assets/image/0006/852144/ien_ang_2015.jpg\" style=\"float: left; height: 150px\"/>\n",
    "\n",
    "<img src=\"http://www.sussex.ac.uk/images/people/profile/7513.jpg\" style=\"float: left; height: 150px;\"/>\n",
    "\n",
    "<img src=\"http://www.tommasoventurini.it/wp/wp-content/uploads/2016/01/TommasoVenturini_large.jpg\" style=\"float: left; height: 150px;\"/>\n",
    "\n",
    "<img src=\"https://thebreakthrough.org/images/people_profiles/Bruno-Latour-1.jpg\" style=\"float: left; height: 150px;\"/>\n",
    "\n",
    "<img src=\"https://i1.rgstatic.net/ii/profile.image/AS%3A285798063722497%401445150976911_l/Richard_Rogers13.png\" style=\"float: left; height: 150px;\"/>\n",
    "\n",
    "<img src=\"https://www2.warwick.ac.uk/fac/cross_fac/cim/people/academic/noortje.jpg?maxWidth=344&maxHeight=344\" style=\"float: left; height: 150px;\"/>\n",
    "\n",
    "<img src=\"https://pbs.twimg.com/profile_images/658510005579022336/qtPqMAM2.jpg\" style=\"float: left; height: 150px;\"/>\n",
    "\n",
    "<img src=\"https://upload.wikimedia.org/wikipedia/commons/thumb/d/df/Lucy_Suchman.jpeg/220px-Lucy_Suchman.jpeg\" style=\"float: left; height: 150px;\"/>\n",
    "\n",
    "<img src=\"http://theconversant.org/wp-content/uploads/2012/12/Haraway-Photo-1.jpg\" style=\"float: left; height: 150px;\"/>\n",
    "\n",
    "<img src=\"https://images.gr-assets.com/authors/1406520120p5/1276828.jpg\" style=\"float: left; height: 150px;\"/>\n",
    "\n",
    "<img src=\"http://interaction16.ixda.org/wp-content/uploads/2016/01/wang_tricia-1.jpg\" style=\"float: left; height: 150px;\"/>\n",
    "\n",
    "<img src=\"http://www.dugumkume.org/wp-content/john-law2.jpg\" style=\"float: left; height: 150px;\"/>\n",
    "\n",
    "<img src=\"http://www.gurteen.com/gurteen/gurteen.nsf/id/L000992/$File/snowden.jpg\" style=\"float: left; height: 150px;\"/>\n",
    "\n",
    "<img src=\"http://www.maryboone.com/images/Keynote%20Photo.jpg\" style=\"float: left; height: 150px;\"/>"
   ]
  },
  {
   "cell_type": "markdown",
   "metadata": {
    "slideshow": {
     "slide_type": "slide"
    }
   },
   "source": [
    "# Peergrade is your place, it is what you enact it to be"
   ]
  },
  {
   "cell_type": "markdown",
   "metadata": {
    "slideshow": {
     "slide_type": "skip"
    }
   },
   "source": [
    "## Python environment imports and setup"
   ]
  },
  {
   "cell_type": "code",
   "execution_count": 3,
   "metadata": {
    "collapsed": true,
    "slideshow": {
     "slide_type": "skip"
    }
   },
   "outputs": [],
   "source": [
    "import matplotlib.pyplot as plt\n",
    "import seaborn as sns\n",
    "import pandas as pd\n",
    "import scipy.stats\n",
    "import lxml.html\n",
    "import lxml.etree\n",
    "import zipfile\n",
    "import string"
   ]
  },
  {
   "cell_type": "code",
   "execution_count": 23,
   "metadata": {
    "collapsed": true,
    "slideshow": {
     "slide_type": "skip"
    }
   },
   "outputs": [],
   "source": [
    "%matplotlib inline\n",
    "sns.set()\n",
    "sns.set_context(\"talk\")"
   ]
  },
  {
   "cell_type": "markdown",
   "metadata": {
    "slideshow": {
     "slide_type": "skip"
    }
   },
   "source": [
    "## Data definitions\n",
    "\n",
    "About the course and the actual data, namely student reflections."
   ]
  },
  {
   "cell_type": "code",
   "execution_count": 9,
   "metadata": {
    "collapsed": true,
    "slideshow": {
     "slide_type": "skip"
    }
   },
   "outputs": [],
   "source": [
    "refllen = 300\n",
    "\n",
    "files = [\"reflections-week2.zip\",\n",
    "         \"reflections-week3.zip\",\n",
    "         \"reflections-week4.zip\",\n",
    "         \"reflections-week5.zip\",\n",
    "         \"reflections-week6.zip\"]"
   ]
  },
  {
   "cell_type": "markdown",
   "metadata": {
    "slideshow": {
     "slide_type": "skip"
    }
   },
   "source": [
    "## Reading the data"
   ]
  },
  {
   "cell_type": "code",
   "execution_count": 10,
   "metadata": {
    "collapsed": true,
    "slideshow": {
     "slide_type": "skip"
    }
   },
   "outputs": [],
   "source": [
    "def readPeergradeFile(filename):\n",
    "    \"\"\"Given a filename, assumes it is a Peergrade assignment and reads it into a dict.\"\"\"\n",
    "    assignment = dict()\n",
    "    with zipfile.ZipFile(filename) as zf:\n",
    "        for name in zf.namelist():\n",
    "            if not name.endswith(\".ipynb\"):\n",
    "                with zf.open(name) as file:\n",
    "                    assignment[name.strip(\".html\")] = lxml.html.document_fromstring(file.read().decode('utf-8'))\n",
    "    return assignment"
   ]
  },
  {
   "cell_type": "code",
   "execution_count": 11,
   "metadata": {
    "collapsed": true,
    "slideshow": {
     "slide_type": "skip"
    }
   },
   "outputs": [],
   "source": [
    "week2 = readPeergradeFile(files[0])\n",
    "week3 = readPeergradeFile(files[1])\n",
    "week4 = readPeergradeFile(files[2])\n",
    "week5 = readPeergradeFile(files[3])\n",
    "week6 = readPeergradeFile(files[4])"
   ]
  },
  {
   "cell_type": "markdown",
   "metadata": {
    "slideshow": {
     "slide_type": "skip"
    }
   },
   "source": [
    "## Extract the reflections and start NLP by tokenizing"
   ]
  },
  {
   "cell_type": "code",
   "execution_count": 12,
   "metadata": {
    "collapsed": true,
    "slideshow": {
     "slide_type": "skip"
    }
   },
   "outputs": [],
   "source": [
    "punctremover = str.maketrans('', '', string.punctuation)\n",
    "\n",
    "def getReflection(data, student):\n",
    "    \"\"\"Given data dictionary and student name string, return their reflection as is, as a list.\"\"\"\n",
    "    return ''.join(token for token in data.get(student).getchildren()[1].itertext()).strip()"
   ]
  },
  {
   "cell_type": "markdown",
   "metadata": {
    "slideshow": {
     "slide_type": "skip"
    }
   },
   "source": [
    "## Analyze reflection lengths"
   ]
  },
  {
   "cell_type": "code",
   "execution_count": 80,
   "metadata": {
    "collapsed": true,
    "slideshow": {
     "slide_type": "skip"
    }
   },
   "outputs": [],
   "source": [
    "def reflLen(reflection):\n",
    "    \"\"\"Given a list of tokens, removes all punctuation and returns it's length in words.\"\"\"\n",
    "    l = [token.translate(punctremover) for token in reflection.split(' ')]\n",
    "    return len(l)"
   ]
  },
  {
   "cell_type": "code",
   "execution_count": 13,
   "metadata": {
    "collapsed": true,
    "slideshow": {
     "slide_type": "skip"
    }
   },
   "outputs": [],
   "source": [
    "week2lens = pd.Series([reflLen(getReflection(week2, n)) for n in week2], index=week2.keys(), name=\"Week 2\")\n",
    "week3lens = pd.Series([reflLen(getReflection(week3, n)) for n in week3], index=week3.keys(), name=\"Week 3\")\n",
    "week4lens = pd.Series([reflLen(getReflection(week4, n)) for n in week4], index=week4.keys(), name=\"Week 4\")\n",
    "week5lens = pd.Series([reflLen(getReflection(week5, n)) for n in week5], index=week5.keys(), name=\"Week 5\")\n",
    "week6lens = pd.Series([reflLen(getReflection(week6, n)) for n in week6], index=week6.keys(), name=\"Week 6\")"
   ]
  },
  {
   "cell_type": "code",
   "execution_count": 83,
   "metadata": {
    "collapsed": true,
    "slideshow": {
     "slide_type": "skip"
    }
   },
   "outputs": [],
   "source": [
    "weeklens = pd.DataFrame({\n",
    "    'Week2': week2lens,\n",
    "    'Week3': week3lens,\n",
    "    'Week4': week4lens,\n",
    "    'Week5': week5lens,\n",
    "    'Week6': week6lens\n",
    "})"
   ]
  },
  {
   "cell_type": "markdown",
   "metadata": {
    "slideshow": {
     "slide_type": "skip"
    }
   },
   "source": [
    "For joyplot with `seaborn`, we want to melt the data to narrow shape. So let's do that."
   ]
  },
  {
   "cell_type": "code",
   "execution_count": 16,
   "metadata": {
    "slideshow": {
     "slide_type": "skip"
    }
   },
   "outputs": [
    {
     "name": "stdout",
     "output_type": "stream",
     "text": [
      "Week2    131\n",
      "Week3    131\n",
      "Week6    131\n",
      "Week5    131\n",
      "Week4    131\n",
      "Name: variable, dtype: int64\n"
     ]
    },
    {
     "data": {
      "text/html": [
       "<div>\n",
       "<style>\n",
       "    .dataframe thead tr:only-child th {\n",
       "        text-align: right;\n",
       "    }\n",
       "\n",
       "    .dataframe thead th {\n",
       "        text-align: left;\n",
       "    }\n",
       "\n",
       "    .dataframe tbody tr th {\n",
       "        vertical-align: top;\n",
       "    }\n",
       "</style>\n",
       "<table border=\"1\" class=\"dataframe\">\n",
       "  <thead>\n",
       "    <tr style=\"text-align: right;\">\n",
       "      <th></th>\n",
       "      <th>variable</th>\n",
       "      <th>value</th>\n",
       "    </tr>\n",
       "  </thead>\n",
       "  <tbody>\n",
       "    <tr>\n",
       "      <th>81</th>\n",
       "      <td>Week2</td>\n",
       "      <td>244.0</td>\n",
       "    </tr>\n",
       "    <tr>\n",
       "      <th>99</th>\n",
       "      <td>Week2</td>\n",
       "      <td>324.0</td>\n",
       "    </tr>\n",
       "    <tr>\n",
       "      <th>63</th>\n",
       "      <td>Week2</td>\n",
       "      <td>243.0</td>\n",
       "    </tr>\n",
       "  </tbody>\n",
       "</table>\n",
       "</div>"
      ],
      "text/plain": [
       "   variable  value\n",
       "81    Week2  244.0\n",
       "99    Week2  324.0\n",
       "63    Week2  243.0"
      ]
     },
     "execution_count": 16,
     "metadata": {},
     "output_type": "execute_result"
    }
   ],
   "source": [
    "weeklens_m = weeklens.melt()\n",
    "print(weeklens_m[\"variable\"].value_counts())\n",
    "weeklens_m.sample(3)"
   ]
  },
  {
   "cell_type": "code",
   "execution_count": 78,
   "metadata": {
    "collapsed": true,
    "slideshow": {
     "slide_type": "skip"
    }
   },
   "outputs": [],
   "source": [
    "def joyplot(data):\n",
    "    \"\"\"Given a dataframe, plots a joyplot\"\"\"\n",
    "    sns.set(style=\"white\", rc={\"axes.facecolor\": (0, 0, 0, 0)})\n",
    "    sns.set_context(\"talk\")\n",
    "    pal = sns.cubehelix_palette(len(data[\"variable\"].unique()), rot=0.2, light=0.8, dark=0.4)\n",
    "    g = sns.FacetGrid(data, row=\"variable\", hue=\"variable\", aspect=10, size=1, palette=pal)\n",
    "    g.map(sns.kdeplot, \"value\", bw=.2, lw=1, shade=True, alpha=1, clip_on=False)\n",
    "    g.map(plt.axhline, y=0, lw=1, clip_on=False)\n",
    "    g.set_titles(\"\")\n",
    "    g.fig.subplots_adjust(hspace=-0.8)\n",
    "    plt.axvline(300, ls=\"dotted\", c=\"black\", lw=6)\n",
    "    g.set(yticks=[])\n",
    "    g.despine(bottom=True, left=True);"
   ]
  },
  {
   "cell_type": "markdown",
   "metadata": {
    "slideshow": {
     "slide_type": "slide"
    }
   },
   "source": [
    "# Look at all the nice things we have created\n",
    "\n",
    "Distribution of reflection lengths, first week at the back, and newer weeks at the front."
   ]
  },
  {
   "cell_type": "code",
   "execution_count": 79,
   "metadata": {
    "slideshow": {
     "slide_type": "-"
    }
   },
   "outputs": [
    {
     "data": {
      "image/png": "[encoded data removed]",
      "text/plain": [
       "<matplotlib.figure.Figure at 0x10d737630>"
      ]
     },
     "metadata": {},
     "output_type": "display_data"
    }
   ],
   "source": [
    "joyplot(weeklens_m)"
   ]
  },
  {
   "cell_type": "markdown",
   "metadata": {
    "slideshow": {
     "slide_type": "fragment"
    }
   },
   "source": [
    "But that's not maybe what we want to know"
   ]
  },
  {
   "cell_type": "markdown",
   "metadata": {
    "slideshow": {
     "slide_type": "slide"
    }
   },
   "source": [
    "There are relations here\n",
    "\n",
    "![](gephi-hairball.png)"
   ]
  },
  {
   "cell_type": "code",
   "execution_count": null,
   "metadata": {
    "slideshow": {
     "slide_type": "slide"
    }
   },
   "outputs": [],
   "source": [
    "Text generator"
   ]
  },
  {
   "cell_type": "markdown",
   "metadata": {
    "slideshow": {
     "slide_type": "subslide"
    }
   },
   "source": [
    "> example 1"
   ]
  },
  {
   "cell_type": "markdown",
   "metadata": {
    "slideshow": {
     "slide_type": "subslide"
    }
   },
   "source": [
    "> example 2"
   ]
  },
  {
   "cell_type": "markdown",
   "metadata": {
    "slideshow": {
     "slide_type": "subslide"
    }
   },
   "source": [
    "> example 3"
   ]
  },
  {
   "cell_type": "markdown",
   "metadata": {
    "slideshow": {
     "slide_type": "subslide"
    }
   },
   "source": [
    "> example 4"
   ]
  },
  {
   "cell_type": "markdown",
   "metadata": {
    "slideshow": {
     "slide_type": "subslide"
    }
   },
   "source": [
    "> example 5"
   ]
  },
  {
   "cell_type": "markdown",
   "metadata": {
    "slideshow": {
     "slide_type": "slide"
    }
   },
   "source": [
    "![](https://media.giphy.com/media/giHQ2odvRQ5oc/giphy.gif)"
   ]
  },
  {
   "cell_type": "markdown",
   "metadata": {
    "slideshow": {
     "slide_type": "slide"
    }
   },
   "source": [
    "Here are some cool bits from the reflections"
   ]
  },
  {
   "cell_type": "markdown",
   "metadata": {
    "slideshow": {
     "slide_type": "subslide"
    }
   },
   "source": [
    "> example 1"
   ]
  },
  {
   "cell_type": "markdown",
   "metadata": {
    "slideshow": {
     "slide_type": "subslide"
    }
   },
   "source": [
    "> example 2"
   ]
  },
  {
   "cell_type": "markdown",
   "metadata": {
    "slideshow": {
     "slide_type": "subslide"
    }
   },
   "source": [
    "> example 3"
   ]
  },
  {
   "cell_type": "markdown",
   "metadata": {
    "slideshow": {
     "slide_type": "subslide"
    }
   },
   "source": [
    "> example 4"
   ]
  },
  {
   "cell_type": "markdown",
   "metadata": {
    "slideshow": {
     "slide_type": "subslide"
    }
   },
   "source": [
    "> example 5"
   ]
  },
  {
   "cell_type": "markdown",
   "metadata": {
    "slideshow": {
     "slide_type": "slide"
    }
   },
   "source": [
    "Reading is also about learning to write"
   ]
  },
  {
   "cell_type": "markdown",
   "metadata": {
    "slideshow": {
     "slide_type": "slide"
    }
   },
   "source": [
    "Somebody picked up the Law style of writing\n",
    "\n",
    "> quote"
   ]
  },
  {
   "cell_type": "markdown",
   "metadata": {
    "slideshow": {
     "slide_type": "slide"
    }
   },
   "source": [
    "Considering how peergrade is set up, a good reflection is something that is useful when you *receive* feedback to it. Valuable twice\n",
    "\n",
    "Here are some cool reflection <-> feedback interactions"
   ]
  },
  {
   "cell_type": "markdown",
   "metadata": {
    "slideshow": {
     "slide_type": "subslide"
    }
   },
   "source": [
    "> example 1"
   ]
  },
  {
   "cell_type": "markdown",
   "metadata": {
    "slideshow": {
     "slide_type": "subslide"
    }
   },
   "source": [
    "> example 2"
   ]
  },
  {
   "cell_type": "markdown",
   "metadata": {
    "slideshow": {
     "slide_type": "subslide"
    }
   },
   "source": [
    "> example 3"
   ]
  },
  {
   "cell_type": "markdown",
   "metadata": {
    "slideshow": {
     "slide_type": "slide"
    }
   },
   "source": [
    "Maybe there is some lesson here that you can think about in your projects too, what does the configuration of the situation do to knowledge"
   ]
  },
  {
   "cell_type": "markdown",
   "metadata": {
    "slideshow": {
     "slide_type": "slide"
    }
   },
   "source": [
    "Keep on being awesome 🦄"
   ]
  }
 ],
 "metadata": {
  "celltoolbar": "Slideshow",
  "kernelspec": {
   "display_name": "Python 3",
   "language": "python",
   "name": "python3"
  },
  "language_info": {
   "codemirror_mode": {
    "name": "ipython",
    "version": 3
   },
   "file_extension": ".py",
   "mimetype": "text/x-python",
   "name": "python",
   "nbconvert_exporter": "python",
   "pygments_lexer": "ipython3",
   "version": "3.6.2"
  }
 },
 "nbformat": 4,
 "nbformat_minor": 2
}
